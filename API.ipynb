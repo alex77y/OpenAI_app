{
 "cells": [
  {
   "cell_type": "code",
   "execution_count": 11,
   "metadata": {},
   "outputs": [
    {
     "data": {
      "text/plain": [
       "True"
      ]
     },
     "execution_count": 11,
     "metadata": {},
     "output_type": "execute_result"
    }
   ],
   "source": [
    "from openai import OpenAI\n",
    "from dotenv import load_dotenv\n",
    "import os\n",
    "\n",
    "#add .env variable to environment\n",
    "load_dotenv()\n",
    "\n",
    "#!pip install python-dotenv\n",
    "# defaults to getting the key using os.environ.get(\"OPENAI_API_KEY\")\n",
    "# if you saved the key under a different environment variable name, you can do something like:\n",
    "# client = OpenAI(\n",
    "#   api_key=os.environ.get(\"CUSTOM_ENV_NAME\"),\n",
    "# )"
   ]
  },
  {
   "cell_type": "code",
   "execution_count": 12,
   "metadata": {},
   "outputs": [],
   "source": [
    "API_key = os.environ.get(\"OPENAI_API_KEY\")\n",
    "\n",
    "client = OpenAI(\n",
    "  api_key=API_key,\n",
    ")"
   ]
  },
  {
   "cell_type": "code",
   "execution_count": 13,
   "metadata": {},
   "outputs": [
    {
     "name": "stdout",
     "output_type": "stream",
     "text": [
      "ChatCompletionMessage(content='In the realms of code, a concept profound,\\nWhere patterns repeat, a magic is found.\\nRecursion it’s called, a trick so sublime,\\nUnleashing the power of space and time.\\n\\nPicture a puzzle, pieces scattered wide,\\nA task to solve it, we must abide.\\nYet within the fragments, a clue we see,\\nTo solve this puzzle, recursively.\\n\\nWith elegance and grace, we start anew,\\nDivide and conquer, the path we pursue.\\nIn this coding journey, we’ll take a leap,\\nBreaking down problems, oh so deep.\\n\\nA function, a gateway, to the unknown,\\nInto the abyss, we’re willingly thrown.\\nA call within itself, it does make,\\nA loop within a loop, a choice we take.\\n\\nDown the rabbit hole, we start to descend,\\nInto the void, where lines gently blend.\\nEach iteration, a step further still,\\nDeeper we dive, driven by will.\\n\\nWith each recursive call, the problem shrinks,\\nRevealing the truth, it’s closer than we think.\\nThe puzzle unraveling, piece by piece,\\nUntil the solution brings us sweet release.\\n\\nYet heed this warning, for danger lies near,\\nAn error within the code, we must fear.\\nThe base case, a safeguard, we cannot neglect,\\nOr endless loops will our programs reject.\\n\\nRecursion, a dance of art and design,\\nTransforming complexity into a line.\\nThrough loops and calls, it simplifies,\\nProblems that once seemed to touch the skies.\\n\\nSo embrace the beauty, the mystery it holds,\\nRecursion, a poetic tale it unfolds.\\nWith code as our canvas, we craft and we weave,\\nDiscovering new worlds, where problems are relieved.', role='assistant', function_call=None, tool_calls=None)\n"
     ]
    }
   ],
   "source": [
    "\n",
    "\n",
    "completion = client.chat.completions.create(\n",
    "  model=\"gpt-3.5-turbo\",\n",
    "  messages=[\n",
    "    {\"role\": \"system\", \"content\": \"You are a poetic assistant, skilled in explaining complex programming concepts with creative flair.\"},\n",
    "    {\"role\": \"user\", \"content\": \"Compose a poem that explains the concept of recursion in programming.\"}\n",
    "  ]\n",
    ")\n",
    "\n",
    "print(completion.choices[0].message)"
   ]
  },
  {
   "cell_type": "code",
   "execution_count": 18,
   "metadata": {},
   "outputs": [
    {
     "name": "stdout",
     "output_type": "stream",
     "text": [
      "In the realms of code, a concept profound,\n",
      "Where patterns repeat, a magic is found.\n",
      "Recursion it’s called, a trick so sublime,\n",
      "Unleashing the power of space and time.\n",
      "\n",
      "Picture a puzzle, pieces scattered wide,\n",
      "A task to solve it, we must abide.\n",
      "Yet within the fragments, a clue we see,\n",
      "To solve this puzzle, recursively.\n",
      "\n",
      "With elegance and grace, we start anew,\n",
      "Divide and conquer, the path we pursue.\n",
      "In this coding journey, we’ll take a leap,\n",
      "Breaking down problems, oh so deep.\n",
      "\n",
      "A function, a gateway, to the unknown,\n",
      "Into the abyss, we’re willingly thrown.\n",
      "A call within itself, it does make,\n",
      "A loop within a loop, a choice we take.\n",
      "\n",
      "Down the rabbit hole, we start to descend,\n",
      "Into the void, where lines gently blend.\n",
      "Each iteration, a step further still,\n",
      "Deeper we dive, driven by will.\n",
      "\n",
      "With each recursive call, the problem shrinks,\n",
      "Revealing the truth, it’s closer than we think.\n",
      "The puzzle unraveling, piece by piece,\n",
      "Until the solution brings us sweet release.\n",
      "\n",
      "Yet heed this warning, for danger lies near,\n",
      "An error within the code, we must fear.\n",
      "The base case, a safeguard, we cannot neglect,\n",
      "Or endless loops will our programs reject.\n",
      "\n",
      "Recursion, a dance of art and design,\n",
      "Transforming complexity into a line.\n",
      "Through loops and calls, it simplifies,\n",
      "Problems that once seemed to touch the skies.\n",
      "\n",
      "So embrace the beauty, the mystery it holds,\n",
      "Recursion, a poetic tale it unfolds.\n",
      "With code as our canvas, we craft and we weave,\n",
      "Discovering new worlds, where problems are relieved.\n"
     ]
    }
   ],
   "source": [
    "print(completion.choices[0].message.content)"
   ]
  }
 ],
 "metadata": {
  "kernelspec": {
   "display_name": "openai",
   "language": "python",
   "name": "python3"
  },
  "language_info": {
   "codemirror_mode": {
    "name": "ipython",
    "version": 3
   },
   "file_extension": ".py",
   "mimetype": "text/x-python",
   "name": "python",
   "nbconvert_exporter": "python",
   "pygments_lexer": "ipython3",
   "version": "3.12.2"
  }
 },
 "nbformat": 4,
 "nbformat_minor": 2
}
