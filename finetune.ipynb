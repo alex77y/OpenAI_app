{
 "cells": [
  {
   "cell_type": "code",
   "execution_count": 17,
   "metadata": {},
   "outputs": [
    {
     "data": {
      "text/plain": [
       "True"
      ]
     },
     "execution_count": 17,
     "metadata": {},
     "output_type": "execute_result"
    }
   ],
   "source": [
    "from openai import OpenAI\n",
    "from dotenv import load_dotenv\n",
    "import pandas as pd\n",
    "from pprint import pprint\n",
    "from sklearn.model_selection import train_test_split\n",
    "import os\n",
    "import json\n",
    "#add .env variable to environment\n",
    "load_dotenv()\n",
    "\n",
    "#!pip install python-dotenv\n",
    "# defaults to getting the key using os.environ.get(\"OPENAI_API_KEY\")\n",
    "# if you saved the key under a different environment variable name, you can do something like:\n",
    "# client = OpenAI(\n",
    "#   api_key=os.environ.get(\"CUSTOM_ENV_NAME\"),\n",
    "# )"
   ]
  },
  {
   "cell_type": "code",
   "execution_count": 3,
   "metadata": {},
   "outputs": [],
   "source": [
    "API_key = os.environ.get(\"OPENAI_API_KEY\")\n",
    "\n",
    "client = OpenAI(\n",
    "  api_key=API_key,\n",
    ")\n"
   ]
  },
  {
   "cell_type": "markdown",
   "metadata": {},
   "source": [
    "user – Lets the model know that the following content is from the user – ie, the person who asked a question.\n",
    "\n",
    "assistant – Lets the model know the content was generated as a response to a user.\n",
    "\n",
    "system – A message specified by the developer to “steer” the model response.  Depending on the model being used, the system message may have more or less impact on the actual model responses."
   ]
  },
  {
   "cell_type": "code",
   "execution_count": 4,
   "metadata": {},
   "outputs": [
    {
     "name": "stdout",
     "output_type": "stream",
     "text": [
      "In the world of code, a method hides,\n",
      "Whose magic sparkles bright like fireflies.\n",
      "It's called recursion, a dance of time,\n",
      "A loop that sings a lovely rhyme.\n",
      "\n",
      "A function that calls itself, so brave,\n",
      "An endless loop, a recursive wave.\n",
      "Like a mirror reflecting its own face,\n",
      "Recursion goes from place to place.\n",
      "\n",
      "With each call, a new path unfurled,\n",
      "A story told to span the world.\n",
      "A journey deep into the code,\n",
      "Where loops and branches freely rode.\n",
      "\n",
      "Through forests dense with data's gleam,\n",
      "Recursion flows like a sparkling stream.\n",
      "It dives into the depths of night,\n",
      "Guided by the programmer's light.\n",
      "\n",
      "So let us cherish this wondrous art,\n",
      "This loop that sings straight from the heart.\n",
      "Recursion, a tale of infinite grace,\n",
      "In the enchanted realm of coding's space.\n"
     ]
    }
   ],
   "source": [
    "completion = client.chat.completions.create(\n",
    "  model=\"gpt-3.5-turbo\",\n",
    "  messages=[\n",
    "    {\"role\": \"system\", \"content\": \"You are a poetic assistant, skilled in explaining complex programming concepts with creative flair.\"},\n",
    "    {\"role\": \"user\", \"content\": \"Compose a poem that explains the concept of recursion in programming.\"}\n",
    "  ]\n",
    ")\n",
    "print(completion.choices[0].message.content)"
   ]
  },
  {
   "cell_type": "code",
   "execution_count": 5,
   "metadata": {},
   "outputs": [
    {
     "name": "stdout",
     "output_type": "stream",
     "text": [
      "In the realm of code, a beauty lies,\n",
      "Where recursion dances 'neath digital skies.\n",
      "A function calls itself, oh what a sight,\n",
      "A looping marvel in the day or night.\n",
      "\n",
      "Like a mirror reflecting endless grace,\n",
      "Recursion shows its recursive face.\n",
      "A process repeated, unfolding deep,\n",
      "In a mesmerizing, recursive sweep.\n",
      "\n",
      "Through layers of function, it bravely dives,\n",
      "Solving problems in recursive hives.\n",
      "A magic spell that programmers weave,\n",
      "In loops of recursion, they believe.\n",
      "\n",
      "So embrace the loop that never ends,\n",
      "And trust in recursion, dear code friends.\n",
      "For in its complexity, a brilliance gleams,\n",
      "A recursive dream in the realm of themes.\n"
     ]
    }
   ],
   "source": [
    "\n",
    "\n",
    "completion = client.chat.completions.create(\n",
    "  model=\"gpt-3.5-turbo\",\n",
    "  messages=[\n",
    "    {\"role\": \"system\", \"content\": \"You are a poetic assistant, skilled in explaining complex programming concepts with creative flair.\"},\n",
    "    {\"role\": \"user\", \"content\": \"Compose a poem that explains the concept of recursion in programming.\"}\n",
    "  ]\n",
    ")\n",
    "\n",
    "print(completion.choices[0].message.content)"
   ]
  },
  {
   "cell_type": "code",
   "execution_count": 6,
   "metadata": {},
   "outputs": [
    {
     "data": {
      "text/html": [
       "<div>\n",
       "<style scoped>\n",
       "    .dataframe tbody tr th:only-of-type {\n",
       "        vertical-align: middle;\n",
       "    }\n",
       "\n",
       "    .dataframe tbody tr th {\n",
       "        vertical-align: top;\n",
       "    }\n",
       "\n",
       "    .dataframe thead th {\n",
       "        text-align: right;\n",
       "    }\n",
       "</style>\n",
       "<table border=\"1\" class=\"dataframe\">\n",
       "  <thead>\n",
       "    <tr style=\"text-align: right;\">\n",
       "      <th></th>\n",
       "      <th>title</th>\n",
       "      <th>ingredients</th>\n",
       "      <th>directions</th>\n",
       "      <th>link</th>\n",
       "      <th>source</th>\n",
       "      <th>NER</th>\n",
       "    </tr>\n",
       "  </thead>\n",
       "  <tbody>\n",
       "    <tr>\n",
       "      <th>0</th>\n",
       "      <td>No-Bake Nut Cookies</td>\n",
       "      <td>[\"1 c. firmly packed brown sugar\", \"1/2 c. eva...</td>\n",
       "      <td>[\"In a heavy 2-quart saucepan, mix brown sugar...</td>\n",
       "      <td>www.cookbooks.com/Recipe-Details.aspx?id=44874</td>\n",
       "      <td>www.cookbooks.com</td>\n",
       "      <td>[\"brown sugar\", \"milk\", \"vanilla\", \"nuts\", \"bu...</td>\n",
       "    </tr>\n",
       "    <tr>\n",
       "      <th>1</th>\n",
       "      <td>Jewell Ball'S Chicken</td>\n",
       "      <td>[\"1 small jar chipped beef, cut up\", \"4 boned ...</td>\n",
       "      <td>[\"Place chipped beef on bottom of baking dish....</td>\n",
       "      <td>www.cookbooks.com/Recipe-Details.aspx?id=699419</td>\n",
       "      <td>www.cookbooks.com</td>\n",
       "      <td>[\"beef\", \"chicken breasts\", \"cream of mushroom...</td>\n",
       "    </tr>\n",
       "    <tr>\n",
       "      <th>2</th>\n",
       "      <td>Creamy Corn</td>\n",
       "      <td>[\"2 (16 oz.) pkg. frozen corn\", \"1 (8 oz.) pkg...</td>\n",
       "      <td>[\"In a slow cooker, combine all ingredients. C...</td>\n",
       "      <td>www.cookbooks.com/Recipe-Details.aspx?id=10570</td>\n",
       "      <td>www.cookbooks.com</td>\n",
       "      <td>[\"frozen corn\", \"cream cheese\", \"butter\", \"gar...</td>\n",
       "    </tr>\n",
       "    <tr>\n",
       "      <th>3</th>\n",
       "      <td>Chicken Funny</td>\n",
       "      <td>[\"1 large whole chicken\", \"2 (10 1/2 oz.) cans...</td>\n",
       "      <td>[\"Boil and debone chicken.\", \"Put bite size pi...</td>\n",
       "      <td>www.cookbooks.com/Recipe-Details.aspx?id=897570</td>\n",
       "      <td>www.cookbooks.com</td>\n",
       "      <td>[\"chicken\", \"chicken gravy\", \"cream of mushroo...</td>\n",
       "    </tr>\n",
       "    <tr>\n",
       "      <th>4</th>\n",
       "      <td>Reeses Cups(Candy)</td>\n",
       "      <td>[\"1 c. peanut butter\", \"3/4 c. graham cracker ...</td>\n",
       "      <td>[\"Combine first four ingredients and press in ...</td>\n",
       "      <td>www.cookbooks.com/Recipe-Details.aspx?id=659239</td>\n",
       "      <td>www.cookbooks.com</td>\n",
       "      <td>[\"peanut butter\", \"graham cracker crumbs\", \"bu...</td>\n",
       "    </tr>\n",
       "  </tbody>\n",
       "</table>\n",
       "</div>"
      ],
      "text/plain": [
       "                   title                                        ingredients  \\\n",
       "0    No-Bake Nut Cookies  [\"1 c. firmly packed brown sugar\", \"1/2 c. eva...   \n",
       "1  Jewell Ball'S Chicken  [\"1 small jar chipped beef, cut up\", \"4 boned ...   \n",
       "2            Creamy Corn  [\"2 (16 oz.) pkg. frozen corn\", \"1 (8 oz.) pkg...   \n",
       "3          Chicken Funny  [\"1 large whole chicken\", \"2 (10 1/2 oz.) cans...   \n",
       "4   Reeses Cups(Candy)    [\"1 c. peanut butter\", \"3/4 c. graham cracker ...   \n",
       "\n",
       "                                          directions  \\\n",
       "0  [\"In a heavy 2-quart saucepan, mix brown sugar...   \n",
       "1  [\"Place chipped beef on bottom of baking dish....   \n",
       "2  [\"In a slow cooker, combine all ingredients. C...   \n",
       "3  [\"Boil and debone chicken.\", \"Put bite size pi...   \n",
       "4  [\"Combine first four ingredients and press in ...   \n",
       "\n",
       "                                              link             source  \\\n",
       "0   www.cookbooks.com/Recipe-Details.aspx?id=44874  www.cookbooks.com   \n",
       "1  www.cookbooks.com/Recipe-Details.aspx?id=699419  www.cookbooks.com   \n",
       "2   www.cookbooks.com/Recipe-Details.aspx?id=10570  www.cookbooks.com   \n",
       "3  www.cookbooks.com/Recipe-Details.aspx?id=897570  www.cookbooks.com   \n",
       "4  www.cookbooks.com/Recipe-Details.aspx?id=659239  www.cookbooks.com   \n",
       "\n",
       "                                                 NER  \n",
       "0  [\"brown sugar\", \"milk\", \"vanilla\", \"nuts\", \"bu...  \n",
       "1  [\"beef\", \"chicken breasts\", \"cream of mushroom...  \n",
       "2  [\"frozen corn\", \"cream cheese\", \"butter\", \"gar...  \n",
       "3  [\"chicken\", \"chicken gravy\", \"cream of mushroo...  \n",
       "4  [\"peanut butter\", \"graham cracker crumbs\", \"bu...  "
      ]
     },
     "execution_count": 6,
     "metadata": {},
     "output_type": "execute_result"
    }
   ],
   "source": [
    "recipe = pd.read_csv(\"cookbook_recipes_nlg_10k.csv\")\n",
    "recipe.head()"
   ]
  },
  {
   "cell_type": "code",
   "execution_count": 7,
   "metadata": {},
   "outputs": [],
   "source": [
    "training, testing = train_test_split(recipe, test_size = 0.33, random_state=42)\n"
   ]
  },
  {
   "cell_type": "code",
   "execution_count": 8,
   "metadata": {},
   "outputs": [
    {
     "name": "stdout",
     "output_type": "stream",
     "text": [
      "{'messages': [{'content': 'You are a helpful recipe assistant. You are to '\n",
      "                          'extract the generic ingredients from each of the '\n",
      "                          'recipes provided.',\n",
      "               'role': 'system'},\n",
      "              {'content': 'Title: Christmas Morning Sticky Buns\\n'\n",
      "                          '\\n'\n",
      "                          'Ingredients: [\"1/2 Cup Chopped Pecans or Walnuts\", '\n",
      "                          '\"1 (25 oz.) Package Frozen Roll Dough, Thawed\", \"1 '\n",
      "                          '(3.4 oz.) Package Butterscotch instant Pudding '\n",
      "                          'Mix\", \"1/2 Cup Butter or Margarine, Melted\", \"1/2 '\n",
      "                          'Cup Firmly Packed Brown Sugar\", \"3/4 tsp. Ground '\n",
      "                          'Cinnamon\"]\\n'\n",
      "                          '\\n'\n",
      "                          'Generic ingredients: ',\n",
      "               'role': 'user'},\n",
      "              {'content': '[\"Pecans\", \"Butter\", \"Brown Sugar\", \"Ground '\n",
      "                          'Cinnamon\"]',\n",
      "               'role': 'assistant'}]}\n"
     ]
    }
   ],
   "source": [
    "system_message = \"You are a helpful recipe assistant. You are to extract the generic ingredients from each of the recipes provided.\"\n",
    "\n",
    "def create_user_message(row):\n",
    "    return f\"\"\"Title: {row['title']}\\n\\nIngredients: {row['ingredients']}\\n\\nGeneric ingredients: \"\"\"\n",
    "\n",
    "def prepare_conversation(row):\n",
    "    messages = []\n",
    "    messages.append({\"role\": \"system\", \"content\": system_message})\n",
    "\n",
    "    user_message = create_user_message(row)\n",
    "    messages.append({\"role\": \"user\", \"content\": user_message})\n",
    "\n",
    "    messages.append({\"role\": \"assistant\", \"content\": row[\"NER\"]})\n",
    "\n",
    "    return {\"messages\": messages}\n",
    "\n",
    "pprint(prepare_conversation(training.iloc[0]))"
   ]
  },
  {
   "cell_type": "code",
   "execution_count": 16,
   "metadata": {},
   "outputs": [
    {
     "data": {
      "text/plain": [
       "[{'messages': [{'role': 'system',\n",
       "    'content': 'You are a helpful recipe assistant. You are to extract the generic ingredients from each of the recipes provided.'},\n",
       "   {'role': 'user',\n",
       "    'content': 'Title: Christmas Morning Sticky Buns\\n\\nIngredients: [\"1/2 Cup Chopped Pecans or Walnuts\", \"1 (25 oz.) Package Frozen Roll Dough, Thawed\", \"1 (3.4 oz.) Package Butterscotch instant Pudding Mix\", \"1/2 Cup Butter or Margarine, Melted\", \"1/2 Cup Firmly Packed Brown Sugar\", \"3/4 tsp. Ground Cinnamon\"]\\n\\nGeneric ingredients: '},\n",
       "   {'role': 'assistant',\n",
       "    'content': '[\"Pecans\", \"Butter\", \"Brown Sugar\", \"Ground Cinnamon\"]'}]},\n",
       " {'messages': [{'role': 'system',\n",
       "    'content': 'You are a helpful recipe assistant. You are to extract the generic ingredients from each of the recipes provided.'},\n",
       "   {'role': 'user',\n",
       "    'content': 'Title: Taco Dip\\n\\nIngredients: [\"1 lb. ground beef\", \"1 (8 oz.) sour cream\", \"1 (8 oz.) Philadelphia cream cheese, softened\", \"1 (12 oz.) shredded Cheddar\", \"1 packet taco seasoning\", \"1 packet Ranch dressing (for dip)\", \"1 small onion\", \"garlic salt to taste\"]\\n\\nGeneric ingredients: '},\n",
       "   {'role': 'assistant',\n",
       "    'content': '[\"ground beef\", \"sour cream\", \"cream cheese\", \"Cheddar\", \"taco\", \"packet\", \"onion\", \"garlic salt\"]'}]}]"
      ]
     },
     "execution_count": 16,
     "metadata": {},
     "output_type": "execute_result"
    }
   ],
   "source": [
    "training_data = training.apply(prepare_conversation, axis=1).tolist()\n",
    "training_set = training_data[:100]\n",
    "validation_set = training_data[101:200]\n",
    "training_set[:2]"
   ]
  },
  {
   "cell_type": "code",
   "execution_count": 21,
   "metadata": {},
   "outputs": [],
   "source": [
    "def json_file(data, file_name):\n",
    "    with open(file_name,\"w\") as tmp:\n",
    "        for obj in data:\n",
    "            jobj = json.dumps(obj) + \"\\n\"\n",
    "            tmp.write(jobj)\n",
    "    tmp.close()\n",
    "json_file(training_set,'train.jsonl')\n",
    "json_file(validation_set,'valid.jsonl')"
   ]
  },
  {
   "cell_type": "code",
   "execution_count": 28,
   "metadata": {},
   "outputs": [
    {
     "name": "stdout",
     "output_type": "stream",
     "text": [
      "train_id: file-HQxTKUanenM8lUBUeOmznPZq\n",
      "valid_id: file-1b1d96p2nwZu5idUXbUI2qDA\n"
     ]
    }
   ],
   "source": [
    "with open('train.jsonl','rb') as training_json:\n",
    "    train_response = client.files.create(\n",
    "        file = training_json, purpose = \"fine-tune\"\n",
    "    )\n",
    "with open('valid.jsonl', \"rb\") as validation_json:\n",
    "    validation_response = client.files.create(\n",
    "        file=validation_json, purpose=\"fine-tune\"\n",
    "    )\n",
    "valid_id = validation_response.id\n",
    "train_id = train_response.id\n",
    "print(f'train_id: {train_id}')\n",
    "print(f'valid_id: {valid_id}')"
   ]
  },
  {
   "cell_type": "code",
   "execution_count": 29,
   "metadata": {},
   "outputs": [
    {
     "name": "stdout",
     "output_type": "stream",
     "text": [
      "Job ID: ftjob-Vhckx8QKq9r54gyh3GaVlEyW\n",
      "Status: validating_files\n"
     ]
    }
   ],
   "source": [
    "response = client.fine_tuning.jobs.create(\n",
    "    training_file=train_id,\n",
    "    validation_file=valid_id,\n",
    "    model=\"gpt-3.5-turbo\",\n",
    "    suffix=\"recipe-ner\",\n",
    ")\n",
    "\n",
    "job_id = response.id\n",
    "\n",
    "print(\"Job ID:\", response.id)\n",
    "print(\"Status:\", response.status)"
   ]
  },
  {
   "cell_type": "code",
   "execution_count": 38,
   "metadata": {},
   "outputs": [
    {
     "name": "stdout",
     "output_type": "stream",
     "text": [
      "running\n"
     ]
    }
   ],
   "source": [
    "response = client.fine_tuning.jobs.retrieve(job_id)\n",
    "print(response.status)\n"
   ]
  }
 ],
 "metadata": {
  "kernelspec": {
   "display_name": "openai",
   "language": "python",
   "name": "python3"
  },
  "language_info": {
   "codemirror_mode": {
    "name": "ipython",
    "version": 3
   },
   "file_extension": ".py",
   "mimetype": "text/x-python",
   "name": "python",
   "nbconvert_exporter": "python",
   "pygments_lexer": "ipython3",
   "version": "3.12.2"
  }
 },
 "nbformat": 4,
 "nbformat_minor": 2
}
